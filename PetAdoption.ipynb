{
  "nbformat": 4,
  "nbformat_minor": 0,
  "metadata": {
    "colab": {
      "provenance": []
    },
    "kernelspec": {
      "name": "python3",
      "display_name": "Python 3"
    },
    "language_info": {
      "name": "python"
    }
  },
  "cells": [
    {
      "cell_type": "code",
      "execution_count": 2,
      "metadata": {
        "id": "kKVxKXnsGuQ5"
      },
      "outputs": [],
      "source": [
        "from bs4 import BeautifulSoup\n",
        "import requests"
      ]
    },
    {
      "cell_type": "code",
      "source": [
        "url = 'https://www.animalutul.ro/anunturi/animale/caini/labrador-retriever/anunt/ocazie-speciala-oferim-gratuit-ultima-catelusa-de-labrador-negru/f40e64743hh474d826gi68880g7e0288.html'\n",
        "\n",
        "page = requests.get(url)\n",
        "\n",
        "soup = BeautifulSoup(page.text, 'html.parser')"
      ],
      "metadata": {
        "id": "79AYH46XGy7r"
      },
      "execution_count": 5,
      "outputs": []
    },
    {
      "cell_type": "code",
      "source": [
        "print(soup)"
      ],
      "metadata": {
        "colab": {
          "base_uri": "https://localhost:8080/"
        },
        "collapsed": true,
        "id": "WNX_pBNyHv9p",
        "outputId": "4b3f059e-88cb-4569-d1af-e00e883f9672"
      },
      "execution_count": 6,
      "outputs": [
        {
          "output_type": "stream",
          "name": "stdout",
          "text": [
            "<!DOCTYPE html>\n",
            "\n",
            "<!--[if lt IE 7]> <html class=\"no-js ie6 oldie\" lang=\"en-US\"> <![endif]-->\n",
            "<!--[if IE 7]>    <html class=\"no-js ie7 oldie\" lang=\"en-US\"> <![endif]-->\n",
            "<!--[if IE 8]>    <html class=\"no-js ie8 oldie\" lang=\"en-US\"> <![endif]-->\n",
            "<!--[if gt IE 8]><!--> <html class=\"no-js\" lang=\"en-US\"> <!--<![endif]-->\n",
            "<head>\n",
            "<title>www.animalutul.ro | 504: Gateway time-out</title>\n",
            "<meta charset=\"utf-8\"/>\n",
            "<meta content=\"text/html; charset=utf-8\" http-equiv=\"Content-Type\"/>\n",
            "<meta content=\"IE=Edge\" http-equiv=\"X-UA-Compatible\"/>\n",
            "<meta content=\"noindex, nofollow\" name=\"robots\"/>\n",
            "<meta content=\"width=device-width,initial-scale=1\" name=\"viewport\"/>\n",
            "<link href=\"/cdn-cgi/styles/main.css\" id=\"cf_styles-css\" rel=\"stylesheet\"/>\n",
            "</head>\n",
            "<body>\n",
            "<div id=\"cf-wrapper\">\n",
            "<div class=\"p-0\" id=\"cf-error-details\">\n",
            "<header class=\"mx-auto pt-10 lg:pt-6 lg:px-8 w-240 lg:w-full mb-8\">\n",
            "<h1 class=\"inline-block sm:block sm:mb-2 font-light text-60 lg:text-4xl text-black-dark leading-tight mr-2\">\n",
            "<span class=\"inline-block\">Gateway time-out</span>\n",
            "<span class=\"code-label\">Error code 504</span>\n",
            "</h1>\n",
            "<div>\n",
            "               Visit <a href=\"https://www.cloudflare.com/5xx-error-landing?utm_source=errorcode_504&amp;utm_campaign=www.animalutul.ro\" rel=\"noopener noreferrer\" target=\"_blank\">cloudflare.com</a> for more information.\n",
            "            </div>\n",
            "<div class=\"mt-3\">2025-04-03 07:51:02 UTC</div>\n",
            "</header>\n",
            "<div class=\"my-8 bg-gradient-gray\">\n",
            "<div class=\"w-240 lg:w-full mx-auto\">\n",
            "<div class=\"clearfix md:px-8\">\n",
            "<div class=\"relative w-1/3 md:w-full py-15 md:p-0 md:py-8 md:text-left md:border-solid md:border-0 md:border-b md:border-gray-400 overflow-hidden float-left md:float-none text-center\" id=\"cf-browser-status\">\n",
            "<div class=\"relative mb-10 md:m-0\">\n",
            "<span class=\"cf-icon-browser block md:hidden h-20 bg-center bg-no-repeat\"></span>\n",
            "<span class=\"cf-icon-ok w-12 h-12 absolute left-1/2 md:left-auto md:right-0 md:top-0 -ml-6 -bottom-4\"></span>\n",
            "</div>\n",
            "<span class=\"md:block w-full truncate\">You</span>\n",
            "<h3 class=\"md:inline-block mt-3 md:mt-0 text-2xl text-gray-600 font-light leading-1.3\">\n",
            "    \n",
            "    Browser\n",
            "    \n",
            "  </h3>\n",
            "<span class=\"leading-1.3 text-2xl text-green-success\">Working</span>\n",
            "</div>\n",
            "<div class=\"relative w-1/3 md:w-full py-15 md:p-0 md:py-8 md:text-left md:border-solid md:border-0 md:border-b md:border-gray-400 overflow-hidden float-left md:float-none text-center\" id=\"cf-cloudflare-status\">\n",
            "<div class=\"relative mb-10 md:m-0\">\n",
            "<a href=\"https://www.cloudflare.com/5xx-error-landing?utm_source=errorcode_504&amp;utm_campaign=www.animalutul.ro\" rel=\"noopener noreferrer\" target=\"_blank\">\n",
            "<span class=\"cf-icon-cloud block md:hidden h-20 bg-center bg-no-repeat\"></span>\n",
            "<span class=\"cf-icon-ok w-12 h-12 absolute left-1/2 md:left-auto md:right-0 md:top-0 -ml-6 -bottom-4\"></span>\n",
            "</a>\n",
            "</div>\n",
            "<span class=\"md:block w-full truncate\">Atlanta</span>\n",
            "<h3 class=\"md:inline-block mt-3 md:mt-0 text-2xl text-gray-600 font-light leading-1.3\">\n",
            "<a href=\"https://www.cloudflare.com/5xx-error-landing?utm_source=errorcode_504&amp;utm_campaign=www.animalutul.ro\" rel=\"noopener noreferrer\" target=\"_blank\">\n",
            "    Cloudflare\n",
            "    </a>\n",
            "</h3>\n",
            "<span class=\"leading-1.3 text-2xl text-green-success\">Working</span>\n",
            "</div>\n",
            "<div class=\"cf-error-source relative w-1/3 md:w-full py-15 md:p-0 md:py-8 md:text-left md:border-solid md:border-0 md:border-b md:border-gray-400 overflow-hidden float-left md:float-none text-center\" id=\"cf-host-status\">\n",
            "<div class=\"relative mb-10 md:m-0\">\n",
            "<span class=\"cf-icon-server block md:hidden h-20 bg-center bg-no-repeat\"></span>\n",
            "<span class=\"cf-icon-error w-12 h-12 absolute left-1/2 md:left-auto md:right-0 md:top-0 -ml-6 -bottom-4\"></span>\n",
            "</div>\n",
            "<span class=\"md:block w-full truncate\">www.animalutul.ro</span>\n",
            "<h3 class=\"md:inline-block mt-3 md:mt-0 text-2xl text-gray-600 font-light leading-1.3\">\n",
            "    \n",
            "    Host\n",
            "    \n",
            "  </h3>\n",
            "<span class=\"leading-1.3 text-2xl text-red-error\">Error</span>\n",
            "</div>\n",
            "</div>\n",
            "</div>\n",
            "</div>\n",
            "<div class=\"w-240 lg:w-full mx-auto mb-8 lg:px-8\">\n",
            "<div class=\"clearfix\">\n",
            "<div class=\"w-1/2 md:w-full float-left pr-6 md:pb-10 md:pr-0 leading-relaxed\">\n",
            "<h2 class=\"text-3xl font-normal leading-1.3 mb-4\">What happened?</h2>\n",
            "<p>The web server reported a gateway time-out error.</p>\n",
            "</div>\n",
            "<div class=\"w-1/2 md:w-full float-left leading-relaxed\">\n",
            "<h2 class=\"text-3xl font-normal leading-1.3 mb-4\">What can I do?</h2>\n",
            "<p class=\"mb-6\">Please try again in a few minutes.</p>\n",
            "</div>\n",
            "</div>\n",
            "</div>\n",
            "<div class=\"cf-error-footer cf-wrapper w-240 lg:w-full py-10 sm:py-4 sm:px-8 mx-auto text-center sm:text-left border-solid border-0 border-t border-gray-300\">\n",
            "<p class=\"text-13\">\n",
            "<span class=\"cf-footer-item sm:block sm:mb-1\">Cloudflare Ray ID: <strong class=\"font-semibold\">92a6fa7e8aa2bf9d</strong></span>\n",
            "<span class=\"cf-footer-separator sm:hidden\">•</span>\n",
            "<span class=\"cf-footer-item hidden sm:block sm:mb-1\" id=\"cf-footer-item-ip\">\n",
            "      Your IP:\n",
            "      <button class=\"cf-footer-ip-reveal-btn\" id=\"cf-footer-ip-reveal\" type=\"button\">Click to reveal</button>\n",
            "<span class=\"hidden\" id=\"cf-footer-ip\">34.73.46.41</span>\n",
            "<span class=\"cf-footer-separator sm:hidden\">•</span>\n",
            "</span>\n",
            "<span class=\"cf-footer-item sm:block sm:mb-1\"><span>Performance &amp; security by</span> <a href=\"https://www.cloudflare.com/5xx-error-landing?utm_source=errorcode_504&amp;utm_campaign=www.animalutul.ro\" id=\"brand_link\" rel=\"noopener noreferrer\" target=\"_blank\">Cloudflare</a></span>\n",
            "</p>\n",
            "<script>(function(){function d(){var b=a.getElementById(\"cf-footer-item-ip\"),c=a.getElementById(\"cf-footer-ip-reveal\");b&&\"classList\"in b&&(b.classList.remove(\"hidden\"),c.addEventListener(\"click\",function(){c.classList.add(\"hidden\");a.getElementById(\"cf-footer-ip\").classList.remove(\"hidden\")}))}var a=document;document.addEventListener&&a.addEventListener(\"DOMContentLoaded\",d)})();</script>\n",
            "</div><!-- /.error-footer -->\n",
            "</div>\n",
            "</div>\n",
            "</body>\n",
            "</html>\n",
            "\n"
          ]
        }
      ]
    }
  ]
}